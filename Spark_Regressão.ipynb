{
  "nbformat": 4,
  "nbformat_minor": 0,
  "metadata": {
    "colab": {
      "provenance": [],
      "authorship_tag": "ABX9TyNNE+snUO0fWBVpAm7TQvfO",
      "include_colab_link": true
    },
    "kernelspec": {
      "name": "python3",
      "display_name": "Python 3"
    },
    "language_info": {
      "name": "python"
    }
  },
  "cells": [
    {
      "cell_type": "markdown",
      "metadata": {
        "id": "view-in-github",
        "colab_type": "text"
      },
      "source": [
        "<a href=\"https://colab.research.google.com/github/Braginsvolitova/Alura_Spark-Class/blob/main/Spark_Regress%C3%A3o.ipynb\" target=\"_parent\"><img src=\"https://colab.research.google.com/assets/colab-badge.svg\" alt=\"Open In Colab\"/></a>"
      ]
    },
    {
      "cell_type": "markdown",
      "source": [
        "# Nova seção"
      ],
      "metadata": {
        "id": "dWL1MnLXtJAQ"
      }
    },
    {
      "cell_type": "code",
      "source": [
        "!pip install pyspark"
      ],
      "metadata": {
        "colab": {
          "base_uri": "https://localhost:8080/"
        },
        "id": "io-YZSzCtp_m",
        "outputId": "db13eebf-ffe1-4f26-e1e5-f24eddffad1c"
      },
      "execution_count": 2,
      "outputs": [
        {
          "output_type": "stream",
          "name": "stdout",
          "text": [
            "Requirement already satisfied: pyspark in /usr/local/lib/python3.10/dist-packages (3.5.0)\n",
            "Requirement already satisfied: py4j==0.10.9.7 in /usr/local/lib/python3.10/dist-packages (from pyspark) (0.10.9.7)\n"
          ]
        }
      ]
    },
    {
      "cell_type": "code",
      "source": [
        "from  pyspark.sql import  SparkSession\n",
        "\n",
        "spark = SparkSession.builder \\\n",
        "  .master('local[*]') \\\n",
        "  .appName (\"Regressão com Spark\") \\\n",
        "  .getOrCreate()\n",
        "spark"
      ],
      "metadata": {
        "colab": {
          "base_uri": "https://localhost:8080/",
          "height": 219
        },
        "id": "mCT4hr9_t0Oy",
        "outputId": "1a1b883b-a615-4a81-c11e-294303d6baa3"
      },
      "execution_count": 4,
      "outputs": [
        {
          "output_type": "execute_result",
          "data": {
            "text/plain": [
              "<pyspark.sql.session.SparkSession at 0x79f403289ea0>"
            ],
            "text/html": [
              "\n",
              "            <div>\n",
              "                <p><b>SparkSession - in-memory</b></p>\n",
              "                \n",
              "        <div>\n",
              "            <p><b>SparkContext</b></p>\n",
              "\n",
              "            <p><a href=\"http://6546d3900d13:4040\">Spark UI</a></p>\n",
              "\n",
              "            <dl>\n",
              "              <dt>Version</dt>\n",
              "                <dd><code>v3.5.0</code></dd>\n",
              "              <dt>Master</dt>\n",
              "                <dd><code>local[*]</code></dd>\n",
              "              <dt>AppName</dt>\n",
              "                <dd><code>Regressão com Spark</code></dd>\n",
              "            </dl>\n",
              "        </div>\n",
              "        \n",
              "            </div>\n",
              "        "
            ]
          },
          "metadata": {},
          "execution_count": 4
        }
      ]
    },
    {
      "cell_type": "code",
      "source": [
        "from google.colab import drive\n",
        "drive.mount('/content/drive')"
      ],
      "metadata": {
        "colab": {
          "base_uri": "https://localhost:8080/"
        },
        "id": "LvLJo6acuAON",
        "outputId": "b34fc271-5e07-410b-bf67-00f04d13a460"
      },
      "execution_count": 6,
      "outputs": [
        {
          "output_type": "stream",
          "name": "stdout",
          "text": [
            "Mounted at /content/drive\n"
          ]
        }
      ]
    },
    {
      "cell_type": "code",
      "source": [
        "dados = spark.read.json(\n",
        "      '/content/drive/MyDrive/Alura/imoveis.json'\n",
        ")"
      ],
      "metadata": {
        "id": "e7ryuN7PvAKX"
      },
      "execution_count": 7,
      "outputs": []
    },
    {
      "cell_type": "code",
      "source": [
        "dados"
      ],
      "metadata": {
        "colab": {
          "base_uri": "https://localhost:8080/"
        },
        "id": "GHsTHn19zFef",
        "outputId": "0eb6c0d4-5468-47aa-a5bf-464b98d1c583"
      },
      "execution_count": 8,
      "outputs": [
        {
          "output_type": "execute_result",
          "data": {
            "text/plain": [
              "DataFrame[ident: struct<customerID:string,source:string>, listing: struct<address:struct<city:string,location:struct<lat:double,lon:double>,neighborhood:string,zone:string>,features:struct<bathrooms:bigint,bedrooms:bigint,floors:bigint,parkingSpaces:bigint,suites:bigint,totalAreas:string,unitFloor:bigint,unitsOnTheFloor:bigint,usableAreas:string>,prices:struct<price:string,tax:struct<condo:string,iptu:string>>,types:struct<unit:string,usage:string>>]"
            ]
          },
          "metadata": {},
          "execution_count": 8
        }
      ]
    },
    {
      "cell_type": "code",
      "source": [
        "dados.show(truncate=False)"
      ],
      "metadata": {
        "colab": {
          "base_uri": "https://localhost:8080/"
        },
        "id": "FQKXKUgWzIRB",
        "outputId": "f2c177a0-e0ea-457e-d6dc-ab1c187a9034"
      },
      "execution_count": 9,
      "outputs": [
        {
          "output_type": "stream",
          "name": "stdout",
          "text": [
            "+--------------------------+-----------------------------------------------------------------------------------------------------------------------------------------------------------------+\n",
            "|ident                     |listing                                                                                                                                                          |\n",
            "+--------------------------+-----------------------------------------------------------------------------------------------------------------------------------------------------------------+\n",
            "|{775564-BOJSMVON, Website}|{{Rio de Janeiro, {-22.909429, -43.413557}, Taquara, Zona Oeste}, {0, 0, 0, 1, 0, 62, 0, 0, 62}, {45000, {150, 0}}, {Outros, Residencial}}                       |\n",
            "|{660895-AUENKNYY, Website}|{{Rio de Janeiro, {-22.869698, -43.509141}, Santíssimo, Zona Oeste}, {1, 2, 0, 1, 0, 0, 0, 0, 44}, {45000, {120, 0}}, {Apartamento, Residencial}}                |\n",
            "|{751522-JESYFEQL, Website}|{{Rio de Janeiro, {-22.986927, -43.646786}, Pedra de Guaratiba, Zona Oeste}, {0, 0, 0, 0, 0, 132, 0, 0, 132}, {50000, {100, 0}}, {Outros, Residencial}}          |\n",
            "|{714052-GAAEWYKS, Website}|{{Rio de Janeiro, {-22.881977, -43.330818}, Cascadura, Zona Norte}, {1, 0, 0, 0, 0, 32, 3, 0, 32}, {45000, {468, 346}}, {Outros, Comercial}}                     |\n",
            "|{568886-ZIBFOMCC, Website}|{{Rio de Janeiro, {-23.027653, -43.480742}, Recreio dos Bandeirantes, Zona Oeste}, {2, 3, 3, 1, 1, 0, 2, 4, 60}, {50000, {400, 120}}, {Apartamento, Residencial}}|\n",
            "|{526755-OBLTYTEN, Website}|{{Rio de Janeiro, {-22.966059, -43.571183}, Guaratiba, Zona Oeste}, {0, 0, 0, 0, 0, 200, 0, 0, 200}, {50000, {0, NULL}}, {Outros, Residencial}}                  |\n",
            "|{593569-CJLMNFGW, Website}|{{Rio de Janeiro, {-22.939028, -43.3453}, Freguesia (Jacarepaguá), Zona Oeste}, {1, 0, 0, 0, 0, 25, 2, 0, 25}, {50000, {801, 211}}, {Outros, Comercial}}         |\n",
            "|{989181-RYJOLMCU, Website}|{{Rio de Janeiro, {-22.841509, -43.278855}, Penha, Zona Norte}, {1, 0, 0, 0, 0, 23, 0, 0, 23}, {50000, {230, NULL}}, {Outros, Comercial}}                        |\n",
            "|{145372-EZKAKSWM, Website}|{{Rio de Janeiro, {-22.835609, -43.392253}, Ricardo de Albuquerque, Zona Norte}, {0, 0, 0, 0, 0, 60, 0, 0, 60}, {45000, {NULL, NULL}}, {Outros, Comercial}}      |\n",
            "|{792086-NWNQTDYL, Website}|{{Rio de Janeiro, {-22.885306, -43.253044}, Jacarezinho, Zona Norte}, {1, 1, 0, 1, 0, 35, 0, 0, 33}, {45336, {0, 0}}, {Apartamento, Residencial}}                |\n",
            "|{339622-MNZGLKTZ, Website}|{{Rio de Janeiro, {-22.990425, -43.635505}, Guaratiba, Zona Oeste}, {0, 0, 0, 0, 0, 120, 0, 0, 120}, {45000, {0, 0}}, {Outros, Residencial}}                     |\n",
            "|{952338-SVULQMXR, Website}|{{Rio de Janeiro, {-22.877982, -43.651456}, Santa Cruz, Zona Oeste}, {0, 0, 0, 0, 0, 468, 0, 0, 468}, {45000, {0, 0}}, {Outros, Residencial}}                    |\n",
            "|{570439-LDICQOXZ, Website}|{{Rio de Janeiro, {-22.998183, -43.504337}, Vargem Grande, Zona Oeste}, {0, 0, 0, 0, 0, 180, 1, 0, 180}, {50000, {0, 0}}, {Outros, Residencial}}                 |\n",
            "|{684023-YTBNKLLO, Website}|{{Rio de Janeiro, {-22.843794, -43.512464}, Bangu, Zona Oeste}, {0, 0, 0, 0, 0, 128, 0, 0, 128}, {50000, {0, 0}}, {Outros, Residencial}}                         |\n",
            "|{629412-VKUMMAVR, Website}|{{Rio de Janeiro, {-22.91077, -43.37182}, Tanque, Zona Oeste}, {0, 0, 0, 0, 0, 82, 1, 0, 82}, {45000, {300, 0}}, {Outros, Residencial}}                          |\n",
            "|{041590-HMJIRKDX, Website}|{{Rio de Janeiro, {-22.910099, -43.17797}, Centro, Zona Central}, {0, 0, 0, 1, 0, 5, 0, 0, 5}, {45000, {0, 0}}, {Outros, Comercial}}                             |\n",
            "|{870098-XTRYJAGY, Website}|{{Rio de Janeiro, {-22.867219, -43.335067}, Madureira, Zona Norte}, {1, 0, 0, 0, 0, 350, 0, 0, 350}, {50000, {0, 1600}}, {Outros, Comercial}}                    |\n",
            "|{951104-MACIAPIS, Website}|{{Rio de Janeiro, {-22.897014, -43.201575}, Santo Cristo, Zona Central}, {2, 3, 20, 1, 1, 0, 20, 19, 70}, {45000, {350, 120}}, {Apartamento, Residencial}}       |\n",
            "|{375665-GHMFEZXX, Website}|{{Rio de Janeiro, {-22.902419, -43.20952}, Santo Cristo, Zona Central}, {2, 3, 20, 1, 1, 0, 20, 19, 70}, {50000, {350, 120}}, {Apartamento, Residencial}}        |\n",
            "|{441711-LRTWHRUA, Website}|{{Rio de Janeiro, {-22.989852, -43.623097}, Pedra de Guaratiba, Zona Oeste}, {1, 1, 0, 0, 0, 45, 2, 0, 37}, {50000, {0, 0}}, {Apartamento, Residencial}}         |\n",
            "+--------------------------+-----------------------------------------------------------------------------------------------------------------------------------------------------------------+\n",
            "only showing top 20 rows\n",
            "\n"
          ]
        }
      ]
    },
    {
      "cell_type": "code",
      "source": [
        "dados.count()"
      ],
      "metadata": {
        "colab": {
          "base_uri": "https://localhost:8080/"
        },
        "id": "fqMV-oFozMmK",
        "outputId": "608aca27-bf46-4d40-ae5a-9b2ed642d869"
      },
      "execution_count": 10,
      "outputs": [
        {
          "output_type": "execute_result",
          "data": {
            "text/plain": [
              "73615"
            ]
          },
          "metadata": {},
          "execution_count": 10
        }
      ]
    },
    {
      "cell_type": "code",
      "source": [
        "dados.printSchema()"
      ],
      "metadata": {
        "colab": {
          "base_uri": "https://localhost:8080/"
        },
        "id": "0nTTSEY4zQ_j",
        "outputId": "444005e6-6ff6-4272-805e-43928b9edef0"
      },
      "execution_count": 11,
      "outputs": [
        {
          "output_type": "stream",
          "name": "stdout",
          "text": [
            "root\n",
            " |-- ident: struct (nullable = true)\n",
            " |    |-- customerID: string (nullable = true)\n",
            " |    |-- source: string (nullable = true)\n",
            " |-- listing: struct (nullable = true)\n",
            " |    |-- address: struct (nullable = true)\n",
            " |    |    |-- city: string (nullable = true)\n",
            " |    |    |-- location: struct (nullable = true)\n",
            " |    |    |    |-- lat: double (nullable = true)\n",
            " |    |    |    |-- lon: double (nullable = true)\n",
            " |    |    |-- neighborhood: string (nullable = true)\n",
            " |    |    |-- zone: string (nullable = true)\n",
            " |    |-- features: struct (nullable = true)\n",
            " |    |    |-- bathrooms: long (nullable = true)\n",
            " |    |    |-- bedrooms: long (nullable = true)\n",
            " |    |    |-- floors: long (nullable = true)\n",
            " |    |    |-- parkingSpaces: long (nullable = true)\n",
            " |    |    |-- suites: long (nullable = true)\n",
            " |    |    |-- totalAreas: string (nullable = true)\n",
            " |    |    |-- unitFloor: long (nullable = true)\n",
            " |    |    |-- unitsOnTheFloor: long (nullable = true)\n",
            " |    |    |-- usableAreas: string (nullable = true)\n",
            " |    |-- prices: struct (nullable = true)\n",
            " |    |    |-- price: string (nullable = true)\n",
            " |    |    |-- tax: struct (nullable = true)\n",
            " |    |    |    |-- condo: string (nullable = true)\n",
            " |    |    |    |-- iptu: string (nullable = true)\n",
            " |    |-- types: struct (nullable = true)\n",
            " |    |    |-- unit: string (nullable = true)\n",
            " |    |    |-- usage: string (nullable = true)\n",
            "\n"
          ]
        }
      ]
    },
    {
      "cell_type": "code",
      "source": [
        "dados\\\n",
        "  .select('ident.customerID', 'listing.*')\\\n",
        "  .show(truncate=False)"
      ],
      "metadata": {
        "colab": {
          "base_uri": "https://localhost:8080/"
        },
        "id": "iSZhdxAvz1WQ",
        "outputId": "0401ca1a-3344-456f-973f-b8aecb3d42b5"
      },
      "execution_count": 12,
      "outputs": [
        {
          "output_type": "stream",
          "name": "stdout",
          "text": [
            "+---------------+--------------------------------------------------------------------------------+-------------------------------+---------------------+--------------------------+\n",
            "|customerID     |address                                                                         |features                       |prices               |types                     |\n",
            "+---------------+--------------------------------------------------------------------------------+-------------------------------+---------------------+--------------------------+\n",
            "|775564-BOJSMVON|{Rio de Janeiro, {-22.909429, -43.413557}, Taquara, Zona Oeste}                 |{0, 0, 0, 1, 0, 62, 0, 0, 62}  |{45000, {150, 0}}    |{Outros, Residencial}     |\n",
            "|660895-AUENKNYY|{Rio de Janeiro, {-22.869698, -43.509141}, Santíssimo, Zona Oeste}              |{1, 2, 0, 1, 0, 0, 0, 0, 44}   |{45000, {120, 0}}    |{Apartamento, Residencial}|\n",
            "|751522-JESYFEQL|{Rio de Janeiro, {-22.986927, -43.646786}, Pedra de Guaratiba, Zona Oeste}      |{0, 0, 0, 0, 0, 132, 0, 0, 132}|{50000, {100, 0}}    |{Outros, Residencial}     |\n",
            "|714052-GAAEWYKS|{Rio de Janeiro, {-22.881977, -43.330818}, Cascadura, Zona Norte}               |{1, 0, 0, 0, 0, 32, 3, 0, 32}  |{45000, {468, 346}}  |{Outros, Comercial}       |\n",
            "|568886-ZIBFOMCC|{Rio de Janeiro, {-23.027653, -43.480742}, Recreio dos Bandeirantes, Zona Oeste}|{2, 3, 3, 1, 1, 0, 2, 4, 60}   |{50000, {400, 120}}  |{Apartamento, Residencial}|\n",
            "|526755-OBLTYTEN|{Rio de Janeiro, {-22.966059, -43.571183}, Guaratiba, Zona Oeste}               |{0, 0, 0, 0, 0, 200, 0, 0, 200}|{50000, {0, NULL}}   |{Outros, Residencial}     |\n",
            "|593569-CJLMNFGW|{Rio de Janeiro, {-22.939028, -43.3453}, Freguesia (Jacarepaguá), Zona Oeste}   |{1, 0, 0, 0, 0, 25, 2, 0, 25}  |{50000, {801, 211}}  |{Outros, Comercial}       |\n",
            "|989181-RYJOLMCU|{Rio de Janeiro, {-22.841509, -43.278855}, Penha, Zona Norte}                   |{1, 0, 0, 0, 0, 23, 0, 0, 23}  |{50000, {230, NULL}} |{Outros, Comercial}       |\n",
            "|145372-EZKAKSWM|{Rio de Janeiro, {-22.835609, -43.392253}, Ricardo de Albuquerque, Zona Norte}  |{0, 0, 0, 0, 0, 60, 0, 0, 60}  |{45000, {NULL, NULL}}|{Outros, Comercial}       |\n",
            "|792086-NWNQTDYL|{Rio de Janeiro, {-22.885306, -43.253044}, Jacarezinho, Zona Norte}             |{1, 1, 0, 1, 0, 35, 0, 0, 33}  |{45336, {0, 0}}      |{Apartamento, Residencial}|\n",
            "|339622-MNZGLKTZ|{Rio de Janeiro, {-22.990425, -43.635505}, Guaratiba, Zona Oeste}               |{0, 0, 0, 0, 0, 120, 0, 0, 120}|{45000, {0, 0}}      |{Outros, Residencial}     |\n",
            "|952338-SVULQMXR|{Rio de Janeiro, {-22.877982, -43.651456}, Santa Cruz, Zona Oeste}              |{0, 0, 0, 0, 0, 468, 0, 0, 468}|{45000, {0, 0}}      |{Outros, Residencial}     |\n",
            "|570439-LDICQOXZ|{Rio de Janeiro, {-22.998183, -43.504337}, Vargem Grande, Zona Oeste}           |{0, 0, 0, 0, 0, 180, 1, 0, 180}|{50000, {0, 0}}      |{Outros, Residencial}     |\n",
            "|684023-YTBNKLLO|{Rio de Janeiro, {-22.843794, -43.512464}, Bangu, Zona Oeste}                   |{0, 0, 0, 0, 0, 128, 0, 0, 128}|{50000, {0, 0}}      |{Outros, Residencial}     |\n",
            "|629412-VKUMMAVR|{Rio de Janeiro, {-22.91077, -43.37182}, Tanque, Zona Oeste}                    |{0, 0, 0, 0, 0, 82, 1, 0, 82}  |{45000, {300, 0}}    |{Outros, Residencial}     |\n",
            "|041590-HMJIRKDX|{Rio de Janeiro, {-22.910099, -43.17797}, Centro, Zona Central}                 |{0, 0, 0, 1, 0, 5, 0, 0, 5}    |{45000, {0, 0}}      |{Outros, Comercial}       |\n",
            "|870098-XTRYJAGY|{Rio de Janeiro, {-22.867219, -43.335067}, Madureira, Zona Norte}               |{1, 0, 0, 0, 0, 350, 0, 0, 350}|{50000, {0, 1600}}   |{Outros, Comercial}       |\n",
            "|951104-MACIAPIS|{Rio de Janeiro, {-22.897014, -43.201575}, Santo Cristo, Zona Central}          |{2, 3, 20, 1, 1, 0, 20, 19, 70}|{45000, {350, 120}}  |{Apartamento, Residencial}|\n",
            "|375665-GHMFEZXX|{Rio de Janeiro, {-22.902419, -43.20952}, Santo Cristo, Zona Central}           |{2, 3, 20, 1, 1, 0, 20, 19, 70}|{50000, {350, 120}}  |{Apartamento, Residencial}|\n",
            "|441711-LRTWHRUA|{Rio de Janeiro, {-22.989852, -43.623097}, Pedra de Guaratiba, Zona Oeste}      |{1, 1, 0, 0, 0, 45, 2, 0, 37}  |{50000, {0, 0}}      |{Apartamento, Residencial}|\n",
            "+---------------+--------------------------------------------------------------------------------+-------------------------------+---------------------+--------------------------+\n",
            "only showing top 20 rows\n",
            "\n"
          ]
        }
      ]
    },
    {
      "cell_type": "code",
      "source": [
        "dados\\\n",
        "    .select('ident.customerID', 'listing.types.*', 'listing.features.*', 'listing.address.*', 'listing.prices.price', 'listing.prices.tax.*')\\\n",
        "    .show(truncate=False)\n"
      ],
      "metadata": {
        "colab": {
          "base_uri": "https://localhost:8080/"
        },
        "id": "JNASR4A11H8g",
        "outputId": "78c65903-6ffe-41e9-cd61-04d17a1391b4"
      },
      "execution_count": 22,
      "outputs": [
        {
          "output_type": "stream",
          "name": "stdout",
          "text": [
            "+---------------+-----------+-----------+---------+--------+------+-------------+------+----------+---------+---------------+-----------+--------------+------------------------+------------------------+------------+-----+-----+----+\n",
            "|customerID     |unit       |usage      |bathrooms|bedrooms|floors|parkingSpaces|suites|totalAreas|unitFloor|unitsOnTheFloor|usableAreas|city          |location                |neighborhood            |zone        |price|condo|iptu|\n",
            "+---------------+-----------+-----------+---------+--------+------+-------------+------+----------+---------+---------------+-----------+--------------+------------------------+------------------------+------------+-----+-----+----+\n",
            "|775564-BOJSMVON|Outros     |Residencial|0        |0       |0     |1            |0     |62        |0        |0              |62         |Rio de Janeiro|{-22.909429, -43.413557}|Taquara                 |Zona Oeste  |45000|150  |0   |\n",
            "|660895-AUENKNYY|Apartamento|Residencial|1        |2       |0     |1            |0     |0         |0        |0              |44         |Rio de Janeiro|{-22.869698, -43.509141}|Santíssimo              |Zona Oeste  |45000|120  |0   |\n",
            "|751522-JESYFEQL|Outros     |Residencial|0        |0       |0     |0            |0     |132       |0        |0              |132        |Rio de Janeiro|{-22.986927, -43.646786}|Pedra de Guaratiba      |Zona Oeste  |50000|100  |0   |\n",
            "|714052-GAAEWYKS|Outros     |Comercial  |1        |0       |0     |0            |0     |32        |3        |0              |32         |Rio de Janeiro|{-22.881977, -43.330818}|Cascadura               |Zona Norte  |45000|468  |346 |\n",
            "|568886-ZIBFOMCC|Apartamento|Residencial|2        |3       |3     |1            |1     |0         |2        |4              |60         |Rio de Janeiro|{-23.027653, -43.480742}|Recreio dos Bandeirantes|Zona Oeste  |50000|400  |120 |\n",
            "|526755-OBLTYTEN|Outros     |Residencial|0        |0       |0     |0            |0     |200       |0        |0              |200        |Rio de Janeiro|{-22.966059, -43.571183}|Guaratiba               |Zona Oeste  |50000|0    |NULL|\n",
            "|593569-CJLMNFGW|Outros     |Comercial  |1        |0       |0     |0            |0     |25        |2        |0              |25         |Rio de Janeiro|{-22.939028, -43.3453}  |Freguesia (Jacarepaguá) |Zona Oeste  |50000|801  |211 |\n",
            "|989181-RYJOLMCU|Outros     |Comercial  |1        |0       |0     |0            |0     |23        |0        |0              |23         |Rio de Janeiro|{-22.841509, -43.278855}|Penha                   |Zona Norte  |50000|230  |NULL|\n",
            "|145372-EZKAKSWM|Outros     |Comercial  |0        |0       |0     |0            |0     |60        |0        |0              |60         |Rio de Janeiro|{-22.835609, -43.392253}|Ricardo de Albuquerque  |Zona Norte  |45000|NULL |NULL|\n",
            "|792086-NWNQTDYL|Apartamento|Residencial|1        |1       |0     |1            |0     |35        |0        |0              |33         |Rio de Janeiro|{-22.885306, -43.253044}|Jacarezinho             |Zona Norte  |45336|0    |0   |\n",
            "|339622-MNZGLKTZ|Outros     |Residencial|0        |0       |0     |0            |0     |120       |0        |0              |120        |Rio de Janeiro|{-22.990425, -43.635505}|Guaratiba               |Zona Oeste  |45000|0    |0   |\n",
            "|952338-SVULQMXR|Outros     |Residencial|0        |0       |0     |0            |0     |468       |0        |0              |468        |Rio de Janeiro|{-22.877982, -43.651456}|Santa Cruz              |Zona Oeste  |45000|0    |0   |\n",
            "|570439-LDICQOXZ|Outros     |Residencial|0        |0       |0     |0            |0     |180       |1        |0              |180        |Rio de Janeiro|{-22.998183, -43.504337}|Vargem Grande           |Zona Oeste  |50000|0    |0   |\n",
            "|684023-YTBNKLLO|Outros     |Residencial|0        |0       |0     |0            |0     |128       |0        |0              |128        |Rio de Janeiro|{-22.843794, -43.512464}|Bangu                   |Zona Oeste  |50000|0    |0   |\n",
            "|629412-VKUMMAVR|Outros     |Residencial|0        |0       |0     |0            |0     |82        |1        |0              |82         |Rio de Janeiro|{-22.91077, -43.37182}  |Tanque                  |Zona Oeste  |45000|300  |0   |\n",
            "|041590-HMJIRKDX|Outros     |Comercial  |0        |0       |0     |1            |0     |5         |0        |0              |5          |Rio de Janeiro|{-22.910099, -43.17797} |Centro                  |Zona Central|45000|0    |0   |\n",
            "|870098-XTRYJAGY|Outros     |Comercial  |1        |0       |0     |0            |0     |350       |0        |0              |350        |Rio de Janeiro|{-22.867219, -43.335067}|Madureira               |Zona Norte  |50000|0    |1600|\n",
            "|951104-MACIAPIS|Apartamento|Residencial|2        |3       |20    |1            |1     |0         |20       |19             |70         |Rio de Janeiro|{-22.897014, -43.201575}|Santo Cristo            |Zona Central|45000|350  |120 |\n",
            "|375665-GHMFEZXX|Apartamento|Residencial|2        |3       |20    |1            |1     |0         |20       |19             |70         |Rio de Janeiro|{-22.902419, -43.20952} |Santo Cristo            |Zona Central|50000|350  |120 |\n",
            "|441711-LRTWHRUA|Apartamento|Residencial|1        |1       |0     |0            |0     |45        |2        |0              |37         |Rio de Janeiro|{-22.989852, -43.623097}|Pedra de Guaratiba      |Zona Oeste  |50000|0    |0   |\n",
            "+---------------+-----------+-----------+---------+--------+------+-------------+------+----------+---------+---------------+-----------+--------------+------------------------+------------------------+------------+-----+-----+----+\n",
            "only showing top 20 rows\n",
            "\n"
          ]
        }
      ]
    },
    {
      "cell_type": "code",
      "source": [
        "dados\\\n",
        "    .select('ident.customerID', 'listing.types.*', 'listing.features.*', 'listing.address.*', 'listing.prices.price', 'listing.prices.tax.*').drop('city','location','totalAreas')\\\n",
        "    .show(truncate=False)\n",
        "\n"
      ],
      "metadata": {
        "colab": {
          "base_uri": "https://localhost:8080/"
        },
        "id": "GmFl1ow728n2",
        "outputId": "2038cc89-e170-48dc-ac4a-32be934dc2af"
      },
      "execution_count": 29,
      "outputs": [
        {
          "output_type": "stream",
          "name": "stdout",
          "text": [
            "+---------------+-----------+-----------+---------+--------+------+-------------+------+---------+---------------+-----------+------------------------+------------+-----+-----+----+\n",
            "|customerID     |unit       |usage      |bathrooms|bedrooms|floors|parkingSpaces|suites|unitFloor|unitsOnTheFloor|usableAreas|neighborhood            |zone        |price|condo|iptu|\n",
            "+---------------+-----------+-----------+---------+--------+------+-------------+------+---------+---------------+-----------+------------------------+------------+-----+-----+----+\n",
            "|775564-BOJSMVON|Outros     |Residencial|0        |0       |0     |1            |0     |0        |0              |62         |Taquara                 |Zona Oeste  |45000|150  |0   |\n",
            "|660895-AUENKNYY|Apartamento|Residencial|1        |2       |0     |1            |0     |0        |0              |44         |Santíssimo              |Zona Oeste  |45000|120  |0   |\n",
            "|751522-JESYFEQL|Outros     |Residencial|0        |0       |0     |0            |0     |0        |0              |132        |Pedra de Guaratiba      |Zona Oeste  |50000|100  |0   |\n",
            "|714052-GAAEWYKS|Outros     |Comercial  |1        |0       |0     |0            |0     |3        |0              |32         |Cascadura               |Zona Norte  |45000|468  |346 |\n",
            "|568886-ZIBFOMCC|Apartamento|Residencial|2        |3       |3     |1            |1     |2        |4              |60         |Recreio dos Bandeirantes|Zona Oeste  |50000|400  |120 |\n",
            "|526755-OBLTYTEN|Outros     |Residencial|0        |0       |0     |0            |0     |0        |0              |200        |Guaratiba               |Zona Oeste  |50000|0    |NULL|\n",
            "|593569-CJLMNFGW|Outros     |Comercial  |1        |0       |0     |0            |0     |2        |0              |25         |Freguesia (Jacarepaguá) |Zona Oeste  |50000|801  |211 |\n",
            "|989181-RYJOLMCU|Outros     |Comercial  |1        |0       |0     |0            |0     |0        |0              |23         |Penha                   |Zona Norte  |50000|230  |NULL|\n",
            "|145372-EZKAKSWM|Outros     |Comercial  |0        |0       |0     |0            |0     |0        |0              |60         |Ricardo de Albuquerque  |Zona Norte  |45000|NULL |NULL|\n",
            "|792086-NWNQTDYL|Apartamento|Residencial|1        |1       |0     |1            |0     |0        |0              |33         |Jacarezinho             |Zona Norte  |45336|0    |0   |\n",
            "|339622-MNZGLKTZ|Outros     |Residencial|0        |0       |0     |0            |0     |0        |0              |120        |Guaratiba               |Zona Oeste  |45000|0    |0   |\n",
            "|952338-SVULQMXR|Outros     |Residencial|0        |0       |0     |0            |0     |0        |0              |468        |Santa Cruz              |Zona Oeste  |45000|0    |0   |\n",
            "|570439-LDICQOXZ|Outros     |Residencial|0        |0       |0     |0            |0     |1        |0              |180        |Vargem Grande           |Zona Oeste  |50000|0    |0   |\n",
            "|684023-YTBNKLLO|Outros     |Residencial|0        |0       |0     |0            |0     |0        |0              |128        |Bangu                   |Zona Oeste  |50000|0    |0   |\n",
            "|629412-VKUMMAVR|Outros     |Residencial|0        |0       |0     |0            |0     |1        |0              |82         |Tanque                  |Zona Oeste  |45000|300  |0   |\n",
            "|041590-HMJIRKDX|Outros     |Comercial  |0        |0       |0     |1            |0     |0        |0              |5          |Centro                  |Zona Central|45000|0    |0   |\n",
            "|870098-XTRYJAGY|Outros     |Comercial  |1        |0       |0     |0            |0     |0        |0              |350        |Madureira               |Zona Norte  |50000|0    |1600|\n",
            "|951104-MACIAPIS|Apartamento|Residencial|2        |3       |20    |1            |1     |20       |19             |70         |Santo Cristo            |Zona Central|45000|350  |120 |\n",
            "|375665-GHMFEZXX|Apartamento|Residencial|2        |3       |20    |1            |1     |20       |19             |70         |Santo Cristo            |Zona Central|50000|350  |120 |\n",
            "|441711-LRTWHRUA|Apartamento|Residencial|1        |1       |0     |0            |0     |2        |0              |37         |Pedra de Guaratiba      |Zona Oeste  |50000|0    |0   |\n",
            "+---------------+-----------+-----------+---------+--------+------+-------------+------+---------+---------------+-----------+------------------------+------------+-----+-----+----+\n",
            "only showing top 20 rows\n",
            "\n"
          ]
        }
      ]
    },
    {
      "cell_type": "code",
      "source": [
        "dataset = dados\\\n",
        "    .select('ident.customerID', 'listing.types.*', 'listing.features.*', 'listing.address.*', 'listing.prices.price', 'listing.prices.tax.*')\\\n",
        "    .drop('city','location','totalAreas')\n"
      ],
      "metadata": {
        "id": "N3x5MWwE4JZ8"
      },
      "execution_count": 30,
      "outputs": []
    },
    {
      "cell_type": "code",
      "source": [
        "dataset.show()"
      ],
      "metadata": {
        "colab": {
          "base_uri": "https://localhost:8080/"
        },
        "id": "wCNMQFjD4koG",
        "outputId": "c1d42541-f507-4b88-eb6a-28ba7abfca0d"
      },
      "execution_count": 31,
      "outputs": [
        {
          "output_type": "stream",
          "name": "stdout",
          "text": [
            "+---------------+-----------+-----------+---------+--------+------+-------------+------+---------+---------------+-----------+--------------------+------------+-----+-----+----+\n",
            "|     customerID|       unit|      usage|bathrooms|bedrooms|floors|parkingSpaces|suites|unitFloor|unitsOnTheFloor|usableAreas|        neighborhood|        zone|price|condo|iptu|\n",
            "+---------------+-----------+-----------+---------+--------+------+-------------+------+---------+---------------+-----------+--------------------+------------+-----+-----+----+\n",
            "|775564-BOJSMVON|     Outros|Residencial|        0|       0|     0|            1|     0|        0|              0|         62|             Taquara|  Zona Oeste|45000|  150|   0|\n",
            "|660895-AUENKNYY|Apartamento|Residencial|        1|       2|     0|            1|     0|        0|              0|         44|          Santíssimo|  Zona Oeste|45000|  120|   0|\n",
            "|751522-JESYFEQL|     Outros|Residencial|        0|       0|     0|            0|     0|        0|              0|        132|  Pedra de Guaratiba|  Zona Oeste|50000|  100|   0|\n",
            "|714052-GAAEWYKS|     Outros|  Comercial|        1|       0|     0|            0|     0|        3|              0|         32|           Cascadura|  Zona Norte|45000|  468| 346|\n",
            "|568886-ZIBFOMCC|Apartamento|Residencial|        2|       3|     3|            1|     1|        2|              4|         60|Recreio dos Bande...|  Zona Oeste|50000|  400| 120|\n",
            "|526755-OBLTYTEN|     Outros|Residencial|        0|       0|     0|            0|     0|        0|              0|        200|           Guaratiba|  Zona Oeste|50000|    0|NULL|\n",
            "|593569-CJLMNFGW|     Outros|  Comercial|        1|       0|     0|            0|     0|        2|              0|         25|Freguesia (Jacare...|  Zona Oeste|50000|  801| 211|\n",
            "|989181-RYJOLMCU|     Outros|  Comercial|        1|       0|     0|            0|     0|        0|              0|         23|               Penha|  Zona Norte|50000|  230|NULL|\n",
            "|145372-EZKAKSWM|     Outros|  Comercial|        0|       0|     0|            0|     0|        0|              0|         60|Ricardo de Albuqu...|  Zona Norte|45000| NULL|NULL|\n",
            "|792086-NWNQTDYL|Apartamento|Residencial|        1|       1|     0|            1|     0|        0|              0|         33|         Jacarezinho|  Zona Norte|45336|    0|   0|\n",
            "|339622-MNZGLKTZ|     Outros|Residencial|        0|       0|     0|            0|     0|        0|              0|        120|           Guaratiba|  Zona Oeste|45000|    0|   0|\n",
            "|952338-SVULQMXR|     Outros|Residencial|        0|       0|     0|            0|     0|        0|              0|        468|          Santa Cruz|  Zona Oeste|45000|    0|   0|\n",
            "|570439-LDICQOXZ|     Outros|Residencial|        0|       0|     0|            0|     0|        1|              0|        180|       Vargem Grande|  Zona Oeste|50000|    0|   0|\n",
            "|684023-YTBNKLLO|     Outros|Residencial|        0|       0|     0|            0|     0|        0|              0|        128|               Bangu|  Zona Oeste|50000|    0|   0|\n",
            "|629412-VKUMMAVR|     Outros|Residencial|        0|       0|     0|            0|     0|        1|              0|         82|              Tanque|  Zona Oeste|45000|  300|   0|\n",
            "|041590-HMJIRKDX|     Outros|  Comercial|        0|       0|     0|            1|     0|        0|              0|          5|              Centro|Zona Central|45000|    0|   0|\n",
            "|870098-XTRYJAGY|     Outros|  Comercial|        1|       0|     0|            0|     0|        0|              0|        350|           Madureira|  Zona Norte|50000|    0|1600|\n",
            "|951104-MACIAPIS|Apartamento|Residencial|        2|       3|    20|            1|     1|       20|             19|         70|        Santo Cristo|Zona Central|45000|  350| 120|\n",
            "|375665-GHMFEZXX|Apartamento|Residencial|        2|       3|    20|            1|     1|       20|             19|         70|        Santo Cristo|Zona Central|50000|  350| 120|\n",
            "|441711-LRTWHRUA|Apartamento|Residencial|        1|       1|     0|            0|     0|        2|              0|         37|  Pedra de Guaratiba|  Zona Oeste|50000|    0|   0|\n",
            "+---------------+-----------+-----------+---------+--------+------+-------------+------+---------+---------------+-----------+--------------------+------------+-----+-----+----+\n",
            "only showing top 20 rows\n",
            "\n"
          ]
        }
      ]
    },
    {
      "cell_type": "code",
      "source": [
        "dataset.printSchema()"
      ],
      "metadata": {
        "colab": {
          "base_uri": "https://localhost:8080/"
        },
        "id": "sBlk3nK64oLK",
        "outputId": "691caaa7-27e8-4f7d-c7ef-087d87451c71"
      },
      "execution_count": 32,
      "outputs": [
        {
          "output_type": "stream",
          "name": "stdout",
          "text": [
            "root\n",
            " |-- customerID: string (nullable = true)\n",
            " |-- unit: string (nullable = true)\n",
            " |-- usage: string (nullable = true)\n",
            " |-- bathrooms: long (nullable = true)\n",
            " |-- bedrooms: long (nullable = true)\n",
            " |-- floors: long (nullable = true)\n",
            " |-- parkingSpaces: long (nullable = true)\n",
            " |-- suites: long (nullable = true)\n",
            " |-- unitFloor: long (nullable = true)\n",
            " |-- unitsOnTheFloor: long (nullable = true)\n",
            " |-- usableAreas: string (nullable = true)\n",
            " |-- neighborhood: string (nullable = true)\n",
            " |-- zone: string (nullable = true)\n",
            " |-- price: string (nullable = true)\n",
            " |-- condo: string (nullable = true)\n",
            " |-- iptu: string (nullable = true)\n",
            "\n"
          ]
        }
      ]
    },
    {
      "cell_type": "code",
      "source": [
        "from  pyspark.sql.types import  IntegerType, DoubleType"
      ],
      "metadata": {
        "id": "GnV-_RR748Jf"
      },
      "execution_count": 33,
      "outputs": []
    },
    {
      "cell_type": "code",
      "source": [
        "dataset\\\n",
        "  .withColumn('usableAreas', dataset ['usableAreas'].cast(IntegerType()))\\\n",
        "  .withColumn('price', dataset ['price'].cast(DoubleType()))\\\n",
        "  .withColumn('condo', dataset ['condo'].cast(DoubleType()))\\\n",
        "  .withColumn('iptu', dataset ['iptu'].cast(DoubleType()))\\\n",
        "  .printSchema()"
      ],
      "metadata": {
        "colab": {
          "base_uri": "https://localhost:8080/"
        },
        "id": "VvOy324v5M2B",
        "outputId": "a2442c8a-6c97-430d-ce51-b35a33089fa5"
      },
      "execution_count": 35,
      "outputs": [
        {
          "output_type": "stream",
          "name": "stdout",
          "text": [
            "root\n",
            " |-- customerID: string (nullable = true)\n",
            " |-- unit: string (nullable = true)\n",
            " |-- usage: string (nullable = true)\n",
            " |-- bathrooms: long (nullable = true)\n",
            " |-- bedrooms: long (nullable = true)\n",
            " |-- floors: long (nullable = true)\n",
            " |-- parkingSpaces: long (nullable = true)\n",
            " |-- suites: long (nullable = true)\n",
            " |-- unitFloor: long (nullable = true)\n",
            " |-- unitsOnTheFloor: long (nullable = true)\n",
            " |-- usableAreas: integer (nullable = true)\n",
            " |-- neighborhood: string (nullable = true)\n",
            " |-- zone: string (nullable = true)\n",
            " |-- price: double (nullable = true)\n",
            " |-- condo: double (nullable = true)\n",
            " |-- iptu: double (nullable = true)\n",
            "\n"
          ]
        }
      ]
    },
    {
      "cell_type": "code",
      "source": [
        "dataset.show ()"
      ],
      "metadata": {
        "colab": {
          "base_uri": "https://localhost:8080/"
        },
        "id": "VsqSAu9C6ojy",
        "outputId": "c697b209-de08-42ea-cafa-eda06de98a1b"
      },
      "execution_count": 36,
      "outputs": [
        {
          "output_type": "stream",
          "name": "stdout",
          "text": [
            "+---------------+-----------+-----------+---------+--------+------+-------------+------+---------+---------------+-----------+--------------------+------------+-----+-----+----+\n",
            "|     customerID|       unit|      usage|bathrooms|bedrooms|floors|parkingSpaces|suites|unitFloor|unitsOnTheFloor|usableAreas|        neighborhood|        zone|price|condo|iptu|\n",
            "+---------------+-----------+-----------+---------+--------+------+-------------+------+---------+---------------+-----------+--------------------+------------+-----+-----+----+\n",
            "|775564-BOJSMVON|     Outros|Residencial|        0|       0|     0|            1|     0|        0|              0|         62|             Taquara|  Zona Oeste|45000|  150|   0|\n",
            "|660895-AUENKNYY|Apartamento|Residencial|        1|       2|     0|            1|     0|        0|              0|         44|          Santíssimo|  Zona Oeste|45000|  120|   0|\n",
            "|751522-JESYFEQL|     Outros|Residencial|        0|       0|     0|            0|     0|        0|              0|        132|  Pedra de Guaratiba|  Zona Oeste|50000|  100|   0|\n",
            "|714052-GAAEWYKS|     Outros|  Comercial|        1|       0|     0|            0|     0|        3|              0|         32|           Cascadura|  Zona Norte|45000|  468| 346|\n",
            "|568886-ZIBFOMCC|Apartamento|Residencial|        2|       3|     3|            1|     1|        2|              4|         60|Recreio dos Bande...|  Zona Oeste|50000|  400| 120|\n",
            "|526755-OBLTYTEN|     Outros|Residencial|        0|       0|     0|            0|     0|        0|              0|        200|           Guaratiba|  Zona Oeste|50000|    0|NULL|\n",
            "|593569-CJLMNFGW|     Outros|  Comercial|        1|       0|     0|            0|     0|        2|              0|         25|Freguesia (Jacare...|  Zona Oeste|50000|  801| 211|\n",
            "|989181-RYJOLMCU|     Outros|  Comercial|        1|       0|     0|            0|     0|        0|              0|         23|               Penha|  Zona Norte|50000|  230|NULL|\n",
            "|145372-EZKAKSWM|     Outros|  Comercial|        0|       0|     0|            0|     0|        0|              0|         60|Ricardo de Albuqu...|  Zona Norte|45000| NULL|NULL|\n",
            "|792086-NWNQTDYL|Apartamento|Residencial|        1|       1|     0|            1|     0|        0|              0|         33|         Jacarezinho|  Zona Norte|45336|    0|   0|\n",
            "|339622-MNZGLKTZ|     Outros|Residencial|        0|       0|     0|            0|     0|        0|              0|        120|           Guaratiba|  Zona Oeste|45000|    0|   0|\n",
            "|952338-SVULQMXR|     Outros|Residencial|        0|       0|     0|            0|     0|        0|              0|        468|          Santa Cruz|  Zona Oeste|45000|    0|   0|\n",
            "|570439-LDICQOXZ|     Outros|Residencial|        0|       0|     0|            0|     0|        1|              0|        180|       Vargem Grande|  Zona Oeste|50000|    0|   0|\n",
            "|684023-YTBNKLLO|     Outros|Residencial|        0|       0|     0|            0|     0|        0|              0|        128|               Bangu|  Zona Oeste|50000|    0|   0|\n",
            "|629412-VKUMMAVR|     Outros|Residencial|        0|       0|     0|            0|     0|        1|              0|         82|              Tanque|  Zona Oeste|45000|  300|   0|\n",
            "|041590-HMJIRKDX|     Outros|  Comercial|        0|       0|     0|            1|     0|        0|              0|          5|              Centro|Zona Central|45000|    0|   0|\n",
            "|870098-XTRYJAGY|     Outros|  Comercial|        1|       0|     0|            0|     0|        0|              0|        350|           Madureira|  Zona Norte|50000|    0|1600|\n",
            "|951104-MACIAPIS|Apartamento|Residencial|        2|       3|    20|            1|     1|       20|             19|         70|        Santo Cristo|Zona Central|45000|  350| 120|\n",
            "|375665-GHMFEZXX|Apartamento|Residencial|        2|       3|    20|            1|     1|       20|             19|         70|        Santo Cristo|Zona Central|50000|  350| 120|\n",
            "|441711-LRTWHRUA|Apartamento|Residencial|        1|       1|     0|            0|     0|        2|              0|         37|  Pedra de Guaratiba|  Zona Oeste|50000|    0|   0|\n",
            "+---------------+-----------+-----------+---------+--------+------+-------------+------+---------+---------------+-----------+--------------------+------------+-----+-----+----+\n",
            "only showing top 20 rows\n",
            "\n"
          ]
        }
      ]
    },
    {
      "cell_type": "code",
      "source": [
        "dataset\\\n",
        "  .select('usage')\\\n",
        "  .groupBy('usage')\\\n",
        "  .count()\\\n",
        "  .show()"
      ],
      "metadata": {
        "colab": {
          "base_uri": "https://localhost:8080/"
        },
        "id": "cqTA1Y827P2b",
        "outputId": "0dc4c03b-0573-416a-92c1-2ae2c33b8247"
      },
      "execution_count": 37,
      "outputs": [
        {
          "output_type": "stream",
          "name": "stdout",
          "text": [
            "+-----------+-----+\n",
            "|      usage|count|\n",
            "+-----------+-----+\n",
            "|  Comercial| 4019|\n",
            "|Residencial|69596|\n",
            "+-----------+-----+\n",
            "\n"
          ]
        }
      ]
    },
    {
      "cell_type": "code",
      "source": [],
      "metadata": {
        "id": "emm55suj8ARX"
      },
      "execution_count": null,
      "outputs": []
    }
  ]
}